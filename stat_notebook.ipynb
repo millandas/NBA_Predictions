{
 "cells": [
  {
   "cell_type": "code",
   "execution_count": 3,
   "metadata": {},
   "outputs": [],
   "source": [
    "import pandas as pd\n",
    "import matplotlib.pyplot as plt\n"
   ]
  },
  {
   "cell_type": "code",
   "execution_count": null,
   "metadata": {},
   "outputs": [],
   "source": []
  },
  {
   "cell_type": "code",
   "execution_count": 4,
   "metadata": {},
   "outputs": [
    {
     "name": "stdout",
     "output_type": "stream",
     "text": [
      "           TEAM_ID STANDINGSDATE         TEAM CONFERENCE\n",
      "0       1610612743    2022-12-22       Denver       West\n",
      "1       1610612763    2022-12-22      Memphis       West\n",
      "2       1610612740    2022-12-22  New Orleans       West\n",
      "3       1610612756    2022-12-22      Phoenix       West\n",
      "4       1610612746    2022-12-22  LA Clippers       West\n",
      "...            ...           ...          ...        ...\n",
      "120052  1610612743    2014-12-22       Denver       West\n",
      "120053  1610612758    2014-12-22   Sacramento       West\n",
      "120054  1610612762    2014-12-22         Utah       West\n",
      "120055  1610612747    2014-12-22  L.A. Lakers       West\n",
      "120056  1610612750    2014-12-22    Minnesota       West\n",
      "\n",
      "[299 rows x 4 columns]\n"
     ]
    }
   ],
   "source": [
    "import pandas as pd\n",
    "\n",
    "# Read the CSV file into a DataFrame\n",
    "df = pd.read_csv(\"C:/Users/cestm/Downloads/statistics/ranking.csv\")\n",
    "\n",
    "# Extract specific columns 'TEAM_ID', 'STANDINGSDATE', 'TEAM' and filter for 'CONFERENCE'=='West'\n",
    "selected_columns = df[['TEAM_ID', 'STANDINGSDATE', 'TEAM', 'CONFERENCE']][df['CONFERENCE'] == 'West']\n",
    "\n",
    "# Filter rows where 'STANDINGSDATE' ends with \"-12-22\"\n",
    "filtered_rows = selected_columns[selected_columns['STANDINGSDATE'].str.endswith('-04-02')]\n",
    "\n",
    "# Display the filtered DataFrame\n",
    "print(filtered_rows)\n",
    "\n",
    "\n"
   ]
  },
  {
   "cell_type": "code",
   "execution_count": 24,
   "metadata": {},
   "outputs": [
    {
     "name": "stdout",
     "output_type": "stream",
     "text": [
      "           TEAM_ID STANDINGSDATE         TEAM CONFERENCE\n",
      "0       1610612743    2022-12-22       Denver       West\n",
      "1       1610612763    2022-12-22      Memphis       West\n",
      "2       1610612740    2022-12-22  New Orleans       West\n",
      "3       1610612756    2022-12-22      Phoenix       West\n",
      "4       1610612746    2022-12-22  LA Clippers       West\n",
      "...            ...           ...          ...        ...\n",
      "120052  1610612743    2014-12-22       Denver       West\n",
      "120053  1610612758    2014-12-22   Sacramento       West\n",
      "120054  1610612762    2014-12-22         Utah       West\n",
      "120055  1610612747    2014-12-22  L.A. Lakers       West\n",
      "120056  1610612750    2014-12-22    Minnesota       West\n",
      "\n",
      "[135 rows x 4 columns]\n"
     ]
    }
   ],
   "source": [
    "rankingyear2022 = filtered_rows[filtered_rows['STANDINGSDATE'].str.startswith('2022-')]\n",
    "rankingyear2021 = filtered_rows[filtered_rows['STANDINGSDATE'].str.startswith('2021-')]\n",
    "rankingyear2020 = filtered_rows[filtered_rows['STANDINGSDATE'].str.startswith('2020-')]\n",
    "rankingyear2019 = filtered_rows[filtered_rows['STANDINGSDATE'].str.startswith('2019-')]\n",
    "rankingyear2018 = filtered_rows[filtered_rows['STANDINGSDATE'].str.startswith('2018-')]\n",
    "rankingyear2017 = filtered_rows[filtered_rows['STANDINGSDATE'].str.startswith('2017-')]\n",
    "rankingyear2016 = filtered_rows[filtered_rows['STANDINGSDATE'].str.startswith('2016-')]\n",
    "rankingyear2015 = filtered_rows[filtered_rows['STANDINGSDATE'].str.startswith('2015-')]\n",
    "rankingyear2014 = filtered_rows[filtered_rows['STANDINGSDATE'].str.startswith('2014-')]\n",
    "\n",
    "# Assuming you have already defined rankingyear2022, rankingyear2021, ..., rankingyear2014\n",
    "\n",
    "# Concatenate the DataFrames along the rows\n",
    "dff = pd.concat([rankingyear2022, rankingyear2021, rankingyear2020, rankingyear2019, rankingyear2018, rankingyear2017, rankingyear2016, rankingyear2015, rankingyear2014])\n",
    "\n",
    "# Display the concatenated DataFrame\n",
    "print(dff)\n"
   ]
  },
  {
   "cell_type": "code",
   "execution_count": 25,
   "metadata": {},
   "outputs": [],
   "source": [
    "\n",
    "dff.to_csv(\"CLASSEMENT\")\n"
   ]
  },
  {
   "cell_type": "code",
   "execution_count": 34,
   "metadata": {},
   "outputs": [
    {
     "name": "stdout",
     "output_type": "stream",
     "text": [
      "             TEAM          ELO\n",
      "10   Golden State  1945.971967\n",
      "0          Denver  1943.812880\n",
      "14        Houston  1942.375105\n",
      "1         Memphis  1942.230641\n",
      "11  Oklahoma City  1941.223414\n",
      "13    San Antonio  1940.936297\n",
      "8          Dallas  1940.504572\n",
      "7        Portland  1940.503936\n",
      "12    L.A. Lakers  1940.073609\n",
      "6            Utah  1939.929023\n",
      "3         Phoenix  1938.635064\n",
      "2     New Orleans  1937.771778\n",
      "5      Sacramento  1937.770997\n",
      "9       Minnesota  1937.340154\n",
      "4     LA Clippers  1895.683051\n"
     ]
    }
   ],
   "source": [
    "import pandas as pd\n",
    "import random  # Import the random module\n",
    "\n",
    "# Read the CSV file into a DataFrame\n",
    "df = pd.read_csv(\"CLASSEMENTT.csv\")\n",
    "\n",
    "# Define initial Elo ratings for each team\n",
    "initial_elo = 1500  # Initial Elo rating\n",
    "elo_ratings = {team: initial_elo for team in df['TEAM'].unique()}\n",
    "\n",
    "# Define Elo rating update function based on rank group difference\n",
    "def update_elo(rank_diff):\n",
    "    K = 100  # Increased Elo rating update factor\n",
    "    expected_win = 1 / (1 + 10 ** (rank_diff / 400))\n",
    "    # Introduce randomness to Elo updates by adding a random value between -50 and 50\n",
    "\n",
    "    return K * expected_win \n",
    "\n",
    "# Iterate over rows to update Elo ratings\n",
    "for index, row in df.iterrows():\n",
    "    team = row['TEAM']\n",
    "    rank = (index % 15) + 1  # Calculate the rank dynamically based on the row index\n",
    "    rank_group_diff = rank - 1  # Calculate the rank group difference\n",
    "    elo_diff = update_elo(rank_group_diff)\n",
    "    elo_ratings[team] += elo_diff\n",
    "\n",
    "# Create a DataFrame for Elo ratings\n",
    "elo_df = pd.DataFrame(elo_ratings.items(), columns=['TEAM', 'ELO'])\n",
    "elo_df.drop(elo_df.tail(1).index, inplace=True)\n",
    "sorted_df = elo_df.sort_values(by='ELO', ascending=False)\n",
    "# Display the DataFrame\n",
    "print(sorted_df)\n"
   ]
  }
 ],
 "metadata": {
  "kernelspec": {
   "display_name": "Python 3",
   "language": "python",
   "name": "python3"
  },
  "language_info": {
   "codemirror_mode": {
    "name": "ipython",
    "version": 3
   },
   "file_extension": ".py",
   "mimetype": "text/x-python",
   "name": "python",
   "nbconvert_exporter": "python",
   "pygments_lexer": "ipython3",
   "version": "3.11.9"
  }
 },
 "nbformat": 4,
 "nbformat_minor": 2
}
