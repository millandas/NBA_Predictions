{
 "cells": [
  {
   "cell_type": "markdown",
   "metadata": {},
   "source": [
    "# Importing important libraries\n",
    "Ce notebook contient des exemples de code en Python avec des commentaires. Vous pouvez utiliser des cellules Markdown pour expliquer les concepts en détail et structurer votre notebook.\n",
    "\n",
    "## Sous-titre\n",
    "\n",
    "Voici un exemple de fonction simple en Python :\n"
   ]
  },
  {
   "cell_type": "code",
   "execution_count": 1,
   "metadata": {},
   "outputs": [],
   "source": [
    "import pandas as pd\n",
    "import matplotlib.pyplot as plt\n",
    "import math"
   ]
  },
  {
   "cell_type": "code",
   "execution_count": 2,
   "metadata": {},
   "outputs": [
    {
     "name": "stdout",
     "output_type": "stream",
     "text": [
      "           TEAM_ID STANDINGSDATE          TEAM CONFERENCE\n",
      "3960    1610612756    2022-04-02       Phoenix       West\n",
      "3961    1610612763    2022-04-02       Memphis       West\n",
      "3962    1610612744    2022-04-02  Golden State       West\n",
      "3963    1610612742    2022-04-02        Dallas       West\n",
      "3964    1610612743    2022-04-02        Denver       West\n",
      "...            ...           ...           ...        ...\n",
      "118537  1610612762    2015-04-02          Utah       West\n",
      "118538  1610612743    2015-04-02        Denver       West\n",
      "118539  1610612758    2015-04-02    Sacramento       West\n",
      "118540  1610612747    2015-04-02   L.A. Lakers       West\n",
      "118541  1610612750    2015-04-02     Minnesota       West\n",
      "\n",
      "[284 rows x 4 columns]\n"
     ]
    }
   ],
   "source": [
    "import pandas as pd\n",
    "\n",
    "# Read the CSV file into a DataFrame\n",
    "df = pd.read_csv(\"C:/Users/cestm/Downloads/statistics/ranking.csv\")\n",
    "\n",
    "# Extract specific columns 'TEAM_ID', 'STANDINGSDATE', 'TEAM' and filter for 'CONFERENCE'=='West'\n",
    "selected_columns = df[['TEAM_ID', 'STANDINGSDATE', 'TEAM', 'CONFERENCE']][df['CONFERENCE'] == 'West']\n",
    "\n",
    "# Filter rows where 'STANDINGSDATE' ends with \"-12-22\"\n",
    "filtered_rows = selected_columns[selected_columns['STANDINGSDATE'].str.endswith('-04-02')]\n",
    "\n",
    "# Display the filtered DataFrame\n",
    "print(filtered_rows)\n",
    "\n",
    "\n"
   ]
  },
  {
   "cell_type": "code",
   "execution_count": 3,
   "metadata": {},
   "outputs": [
    {
     "name": "stdout",
     "output_type": "stream",
     "text": [
      "          TEAM_ID STANDINGSDATE          TEAM CONFERENCE\n",
      "3960   1610612756    2022-04-02       Phoenix       West\n",
      "3961   1610612763    2022-04-02       Memphis       West\n",
      "3962   1610612744    2022-04-02  Golden State       West\n",
      "3963   1610612742    2022-04-02        Dallas       West\n",
      "3964   1610612743    2022-04-02        Denver       West\n",
      "...           ...           ...           ...        ...\n",
      "35784  1610612743    2014-04-02        Denver       West\n",
      "35785  1610612740    2014-04-02   New Orleans       West\n",
      "35786  1610612758    2014-04-02    Sacramento       West\n",
      "35787  1610612747    2014-04-02   L.A. Lakers       West\n",
      "35788  1610612762    2014-04-02          Utah       West\n",
      "\n",
      "[135 rows x 4 columns]\n"
     ]
    }
   ],
   "source": [
    "rankingyear2022 = filtered_rows[filtered_rows['STANDINGSDATE'].str.startswith('2022-')]\n",
    "rankingyear2021 = filtered_rows[filtered_rows['STANDINGSDATE'].str.startswith('2021-')]\n",
    "rankingyear2020 = filtered_rows[filtered_rows['STANDINGSDATE'].str.startswith('2020-')]\n",
    "rankingyear2019 = filtered_rows[filtered_rows['STANDINGSDATE'].str.startswith('2019-')]\n",
    "rankingyear2018 = filtered_rows[filtered_rows['STANDINGSDATE'].str.startswith('2018-')]\n",
    "rankingyear2017 = filtered_rows[filtered_rows['STANDINGSDATE'].str.startswith('2017-')]\n",
    "rankingyear2016 = filtered_rows[filtered_rows['STANDINGSDATE'].str.startswith('2016-')]\n",
    "rankingyear2015 = filtered_rows[filtered_rows['STANDINGSDATE'].str.startswith('2015-')]\n",
    "rankingyear2014 = filtered_rows[filtered_rows['STANDINGSDATE'].str.startswith('2014-')]\n",
    "\n",
    "# Assuming you have already defined rankingyear2022, rankingyear2021, ..., rankingyear2014\n",
    "\n",
    "# Concatenate the DataFrames along the rows\n",
    "dff = pd.concat([rankingyear2022, rankingyear2021, rankingyear2020, rankingyear2019, rankingyear2018, rankingyear2017, rankingyear2016, rankingyear2015, rankingyear2014])\n",
    "\n",
    "# Display the concatenated DataFrame\n",
    "print(dff)\n"
   ]
  },
  {
   "cell_type": "code",
   "execution_count": 4,
   "metadata": {},
   "outputs": [],
   "source": [
    "\n",
    "dff.to_csv(\"CLASSEMENT\")\n"
   ]
  },
  {
   "cell_type": "code",
   "execution_count": 20,
   "metadata": {},
   "outputs": [
    {
     "name": "stdout",
     "output_type": "stream",
     "text": [
      "             TEAM          ELO\n",
      "10   Golden State  3729.859835\n",
      "0          Denver  3719.064402\n",
      "14        Houston  3711.875526\n",
      "1         Memphis  3711.153207\n",
      "11  Oklahoma City  3706.117068\n",
      "13    San Antonio  3704.681483\n",
      "8          Dallas  3702.522862\n",
      "7        Portland  3702.519682\n",
      "12    L.A. Lakers  3700.368043\n",
      "6            Utah  3699.645116\n",
      "3         Phoenix  3693.175320\n",
      "2     New Orleans  3688.858891\n",
      "5      Sacramento  3688.854985\n",
      "9       Minnesota  3686.700772\n",
      "4     LA Clippers  3478.415255\n"
     ]
    }
   ],
   "source": [
    "import pandas as pd\n",
    "\n",
    "# Read the CSV file into a DataFrame\n",
    "df = pd.read_csv(\"CLASSEMENTT.csv\")\n",
    "\n",
    "# Define initial Elo ratings for each team\n",
    "initial_elo = 1500  # Initial Elo rating\n",
    "elo_ratings = {team: initial_elo for team in df['TEAM'].unique()}\n",
    "\n",
    "# Define Elo rating update function based on rank group difference\n",
    "def update_elo(rank_diff):\n",
    "    K = 500  # Increased Elo rating update factor for even stronger variance\n",
    "    expected_win = 1 / (1 + 10 ** (rank_diff / 400))\n",
    "    return K * expected_win\n",
    "\n",
    "# Iterate over rows to update Elo ratings\n",
    "for index, row in df.iterrows():\n",
    "    team = row['TEAM']\n",
    "    rank = (index % 15) + 1  # Calculate the rank dynamically based on the row index\n",
    "    rank_group_diff = rank - 1  # Calculate the rank group difference\n",
    "    elo_diff = update_elo(rank_group_diff)\n",
    "    elo_ratings[team] += elo_diff\n",
    "\n",
    "# Create a DataFrame for Elo ratings\n",
    "elo_df = pd.DataFrame(elo_ratings.items(), columns=['TEAM', 'ELO'])\n",
    "elo_df.drop(elo_df.tail(1).index, inplace=True)\n",
    "sorted_df = elo_df.sort_values(by='ELO', ascending=False)\n",
    "\n",
    "# Display the DataFrame\n",
    "print(sorted_df)\n"
   ]
  },
  {
   "cell_type": "code",
   "execution_count": 22,
   "metadata": {},
   "outputs": [
    {
     "name": "stdout",
     "output_type": "stream",
     "text": [
      "(0.5617933658926907, 0.43820663410730937)\n",
      "None\n"
     ]
    }
   ],
   "source": [
    "import math\n",
    "\n",
    "def match_outcome_probability(team1, team2):\n",
    "    # Access Elo ratings using .loc[] for label-based indexing\n",
    "    elo_team1 = elo_df.loc[elo_df['TEAM'] == str(team1), 'ELO'].values[0]\n",
    "    elo_team2 = elo_df.loc[elo_df['TEAM'] == str(team2), 'ELO'].values[0]\n",
    "\n",
    "    delta_elo = elo_team1 - elo_team2\n",
    "    probability_team1_win = 1 / (1 + math.pow(10, -delta_elo / 400))\n",
    "    probability_team2_win = 1 / (1 + math.pow(10, delta_elo / 400))\n",
    "    #probability_draw = 1 - probability_team1_win - probability_team2_win\n",
    "    return print(f\"{probability_team1_win, probability_team2_win}\")\n",
    "\n",
    "print(match_outcome_probability('Golden State', 'Minnesota'))\n"
   ]
  },
  {
   "cell_type": "code",
   "execution_count": 10,
   "metadata": {},
   "outputs": [
    {
     "name": "stdout",
     "output_type": "stream",
     "text": [
      "           TEAM_ID STANDINGSDATE          TEAM CONFERENCE\n",
      "8235    1610612748    2022-04-02         Miami       East\n",
      "8236    1610612749    2022-04-02     Milwaukee       East\n",
      "8237    1610612738    2022-04-02        Boston       East\n",
      "8238    1610612755    2022-04-02  Philadelphia       East\n",
      "8239    1610612761    2022-04-02       Toronto       East\n",
      "...            ...           ...           ...        ...\n",
      "207142  1610612754    2015-04-02       Indiana       East\n",
      "207143  1610612765    2015-04-02       Detroit       East\n",
      "207144  1610612753    2015-04-02       Orlando       East\n",
      "207145  1610612755    2015-04-02  Philadelphia       East\n",
      "207146  1610612752    2015-04-02      New York       East\n",
      "\n",
      "[285 rows x 4 columns]\n"
     ]
    }
   ],
   "source": [
    "\n",
    "\n",
    "# Read the CSV file into a DataFrame\n",
    "dfa = pd.read_csv(\"C:/Users/cestm/Downloads/statistics/ranking.csv\")\n",
    "\n",
    "# Extract specific columns 'TEAM_ID', 'STANDINGSDATE', 'TEAM' and filter for 'CONFERENCE'=='West'\n",
    "selected_columns = dfa[['TEAM_ID', 'STANDINGSDATE', 'TEAM', 'CONFERENCE']][df['CONFERENCE'] == 'East']\n",
    "\n",
    "# Filter rows where 'STANDINGSDATE' ends with \"-12-22\"\n",
    "filtered_rowss = selected_columns[selected_columns['STANDINGSDATE'].str.endswith('-04-02')]\n",
    "\n",
    "# Display the filtered DataFrame\n",
    "print(filtered_rowss)\n"
   ]
  },
  {
   "cell_type": "code",
   "execution_count": 12,
   "metadata": {},
   "outputs": [
    {
     "name": "stdout",
     "output_type": "stream",
     "text": [
      "           TEAM_ID STANDINGSDATE          TEAM CONFERENCE\n",
      "8235    1610612748    2022-04-02         Miami       East\n",
      "8236    1610612749    2022-04-02     Milwaukee       East\n",
      "8237    1610612738    2022-04-02        Boston       East\n",
      "8238    1610612755    2022-04-02  Philadelphia       East\n",
      "8239    1610612761    2022-04-02       Toronto       East\n",
      "...            ...           ...           ...        ...\n",
      "124012  1610612765    2014-04-02       Detroit       East\n",
      "124013  1610612738    2014-04-02        Boston       East\n",
      "124014  1610612753    2014-04-02       Orlando       East\n",
      "124015  1610612755    2014-04-02  Philadelphia       East\n",
      "124016  1610612749    2014-04-02     Milwaukee       East\n",
      "\n",
      "[135 rows x 4 columns]\n"
     ]
    }
   ],
   "source": [
    "rankingyear2022 = filtered_rowss[filtered_rowss['STANDINGSDATE'].str.startswith('2022-')]\n",
    "rankingyear2021 = filtered_rowss[filtered_rowss['STANDINGSDATE'].str.startswith('2021-')]\n",
    "rankingyear2020 = filtered_rowss[filtered_rowss['STANDINGSDATE'].str.startswith('2020-')]\n",
    "rankingyear2019 = filtered_rowss[filtered_rowss['STANDINGSDATE'].str.startswith('2019-')]\n",
    "rankingyear2018 = filtered_rowss[filtered_rowss['STANDINGSDATE'].str.startswith('2018-')]\n",
    "rankingyear2017 = filtered_rowss[filtered_rowss['STANDINGSDATE'].str.startswith('2017-')]\n",
    "rankingyear2016 = filtered_rowss[filtered_rowss['STANDINGSDATE'].str.startswith('2016-')]\n",
    "rankingyear2015 = filtered_rowss[filtered_rowss['STANDINGSDATE'].str.startswith('2015-')]\n",
    "rankingyear2014 = filtered_rowss[filtered_rowss['STANDINGSDATE'].str.startswith('2014-')]\n",
    "\n",
    "# Assuming you have already defined rankingyear2022, rankingyear2021, ..., rankingyear2014\n",
    "\n",
    "# Concatenate the DataFrames along the rows\n",
    "dffa = pd.concat([rankingyear2022, rankingyear2021, rankingyear2020, rankingyear2019, rankingyear2018, rankingyear2017, rankingyear2016, rankingyear2015, rankingyear2014])\n",
    "\n",
    "# Display the concatenated DataFrame\n",
    "print(dffa)"
   ]
  },
  {
   "cell_type": "code",
   "execution_count": 13,
   "metadata": {},
   "outputs": [],
   "source": [
    "\n",
    "dffa.to_csv(\"CLASSEMENTS\")"
   ]
  },
  {
   "cell_type": "code",
   "execution_count": 15,
   "metadata": {},
   "outputs": [
    {
     "name": "stdout",
     "output_type": "stream",
     "text": [
      "            TEAM            ELO\n",
      "4        Toronto  135420.797796\n",
      "2         Boston  134945.993189\n",
      "0          Miami  134686.935949\n",
      "1      Milwaukee  134644.051364\n",
      "12       Indiana  134039.603082\n",
      "6      Cleveland  133996.847157\n",
      "7        Atlanta  133694.599402\n",
      "5        Chicago  133694.398600\n",
      "10    Washington  133694.309961\n",
      "9      Charlotte  133694.275665\n",
      "3   Philadelphia  133651.629755\n",
      "8       Brooklyn  133521.971055\n",
      "13       Detroit  132658.854398\n",
      "11      New York  132313.709930\n"
     ]
    }
   ],
   "source": [
    "import pandas as pd\n",
    "\n",
    "# Read the CSV file into a DataFrame\n",
    "df = pd.read_csv(\"CLASSEMENTS.csv\")\n",
    "\n",
    "# Define initial Elo ratings for each team\n",
    "initial_elo = 1500  # Initial Elo rating\n",
    "elo_ratings = {team: initial_elo for team in df['TEAM'].unique()}\n",
    "\n",
    "# Define Elo rating update function based on rank group difference\n",
    "def update_elo(rank_diff):\n",
    "    K = 500  # Increased Elo rating update factor for even stronger variance\n",
    "    expected_win = 1 / (1 + 10 ** (rank_diff / 400))\n",
    "    return K * expected_win\n",
    "\n",
    "# Iterate over rows to update Elo ratings\n",
    "for index, row in df.iterrows():\n",
    "    team = row['TEAM']\n",
    "    rank = (index % 15) + 1  # Calculate the rank dynamically based on the row index\n",
    "    rank_group_diff = rank - 1  # Calculate the rank group difference\n",
    "    elo_diff = update_elo(rank_group_diff)\n",
    "    elo_ratings[team] += elo_diff\n",
    "\n",
    "# Create a DataFrame for Elo ratings\n",
    "elo_df = pd.DataFrame(elo_ratings.items(), columns=['TEAM', 'ELO'])\n",
    "elo_df.drop(elo_df.tail(1).index, inplace=True)\n",
    "sorted_df = elo_df.sort_values(by='ELO', ascending=False)\n",
    "\n",
    "# Display the DataFrame\n",
    "print(sorted_df)"
   ]
  }
 ],
 "metadata": {
  "kernelspec": {
   "display_name": "Python 3",
   "language": "python",
   "name": "python3"
  },
  "language_info": {
   "codemirror_mode": {
    "name": "ipython",
    "version": 3
   },
   "file_extension": ".py",
   "mimetype": "text/x-python",
   "name": "python",
   "nbconvert_exporter": "python",
   "pygments_lexer": "ipython3",
   "version": "3.11.9"
  }
 },
 "nbformat": 4,
 "nbformat_minor": 2
}
