{
 "cells": [
  {
   "cell_type": "markdown",
   "metadata": {},
   "source": [
    "# Importing important libraries\n"
   ]
  },
  {
   "cell_type": "code",
   "execution_count": 31,
   "metadata": {},
   "outputs": [],
   "source": [
    "import pandas as pd\n",
    "import matplotlib.pyplot as plt\n",
    "import math"
   ]
  },
  {
   "cell_type": "markdown",
   "metadata": {},
   "source": [
    "# Reading of a CSV file and extraction of itss important data \n",
    "\n",
    "In this section we are reading a CSV file which come from the official NBA webside. The CSV file is In the Github under the name \"ranking.csv\". \n",
    "Then we create a Data frame which contains the teams ranking during the last day of the different NBA seasons which is the second of april.\n",
    "As an example we can see that the Phoenix were leading the West-NBA conference before the playoffs of 2022"
   ]
  },
  {
   "cell_type": "code",
   "execution_count": 49,
   "metadata": {},
   "outputs": [
    {
     "name": "stdout",
     "output_type": "stream",
     "text": [
      "           TEAM_ID STANDINGSDATE          TEAM CONFERENCE\n",
      "3960    1610612756    2022-04-02       Phoenix       West\n",
      "3961    1610612763    2022-04-02       Memphis       West\n",
      "3962    1610612744    2022-04-02  Golden State       West\n",
      "3963    1610612742    2022-04-02        Dallas       West\n",
      "3964    1610612743    2022-04-02        Denver       West\n",
      "...            ...           ...           ...        ...\n",
      "118537  1610612762    2015-04-02          Utah       West\n",
      "118538  1610612743    2015-04-02        Denver       West\n",
      "118539  1610612758    2015-04-02    Sacramento       West\n",
      "118540  1610612747    2015-04-02   L.A. Lakers       West\n",
      "118541  1610612750    2015-04-02     Minnesota       West\n",
      "\n",
      "[284 rows x 4 columns]\n"
     ]
    }
   ],
   "source": [
    "import pandas as pd\n",
    "\n",
    "# Read the CSV file into a DataFrame\n",
    "df = pd.read_csv(\"C:/Users/cestm/Downloads/statistics/ranking.csv\")\n",
    "\n",
    "# Extract specific columns 'TEAM_ID', 'STANDINGSDATE', 'TEAM' and filter for 'CONFERENCE'=='West'\n",
    "selected_columns = df[['TEAM_ID', 'STANDINGSDATE', 'TEAM', 'CONFERENCE']][df['CONFERENCE'] == 'West']\n",
    "\n",
    "# Filter rows where 'STANDINGSDATE' ends with \"-12-22\"\n",
    "filtered_rows = selected_columns[selected_columns['STANDINGSDATE'].str.endswith('-04-02')]\n",
    "\n",
    "# Display the filtered DataFrame\n",
    "print(filtered_rows)\n",
    "\n",
    "\n"
   ]
  },
  {
   "cell_type": "markdown",
   "metadata": {},
   "source": [
    "# Making a dataframe with only the rankings\n",
    "\n",
    "As our only criteria for our elo based model is the rankings during the different seasons. We are here making a new dataframe with only the rankings of the different West-NBA conference seasons."
   ]
  },
  {
   "cell_type": "code",
   "execution_count": 33,
   "metadata": {},
   "outputs": [
    {
     "name": "stdout",
     "output_type": "stream",
     "text": [
      "          TEAM_ID STANDINGSDATE          TEAM CONFERENCE\n",
      "3960   1610612756    2022-04-02       Phoenix       West\n",
      "3961   1610612763    2022-04-02       Memphis       West\n",
      "3962   1610612744    2022-04-02  Golden State       West\n",
      "3963   1610612742    2022-04-02        Dallas       West\n",
      "3964   1610612743    2022-04-02        Denver       West\n",
      "...           ...           ...           ...        ...\n",
      "35784  1610612743    2014-04-02        Denver       West\n",
      "35785  1610612740    2014-04-02   New Orleans       West\n",
      "35786  1610612758    2014-04-02    Sacramento       West\n",
      "35787  1610612747    2014-04-02   L.A. Lakers       West\n",
      "35788  1610612762    2014-04-02          Utah       West\n",
      "\n",
      "[135 rows x 4 columns]\n"
     ]
    }
   ],
   "source": [
    "rankingyear2022 = filtered_rows[filtered_rows['STANDINGSDATE'].str.startswith('2022-')]\n",
    "rankingyear2021 = filtered_rows[filtered_rows['STANDINGSDATE'].str.startswith('2021-')]\n",
    "rankingyear2020 = filtered_rows[filtered_rows['STANDINGSDATE'].str.startswith('2020-')]\n",
    "rankingyear2019 = filtered_rows[filtered_rows['STANDINGSDATE'].str.startswith('2019-')]\n",
    "rankingyear2018 = filtered_rows[filtered_rows['STANDINGSDATE'].str.startswith('2018-')]\n",
    "rankingyear2017 = filtered_rows[filtered_rows['STANDINGSDATE'].str.startswith('2017-')]\n",
    "rankingyear2016 = filtered_rows[filtered_rows['STANDINGSDATE'].str.startswith('2016-')]\n",
    "rankingyear2015 = filtered_rows[filtered_rows['STANDINGSDATE'].str.startswith('2015-')]\n",
    "rankingyear2014 = filtered_rows[filtered_rows['STANDINGSDATE'].str.startswith('2014-')]\n",
    "\n",
    "# Assuming you have already defined rankingyear2022, rankingyear2021, ..., rankingyear2014\n",
    "\n",
    "# Concatenate the DataFrames along the rows\n",
    "dff = pd.concat([rankingyear2022, rankingyear2021, rankingyear2020, rankingyear2019, rankingyear2018, rankingyear2017, rankingyear2016, rankingyear2015, rankingyear2014])\n",
    "\n",
    "# Display the concatenated DataFrame\n",
    "print(dff)\n"
   ]
  },
  {
   "cell_type": "markdown",
   "metadata": {},
   "source": [
    "# Making a CSV file of that new dataframe"
   ]
  },
  {
   "cell_type": "code",
   "execution_count": 34,
   "metadata": {},
   "outputs": [],
   "source": [
    "\n",
    "dff.to_csv(\"CLASSEMENT\")\n"
   ]
  },
  {
   "cell_type": "markdown",
   "metadata": {},
   "source": [
    "# Elo Rating System Based on Team Rankings\n",
    "\n",
    "This script calculates Elo ratings for teams based on their rankings in each season, with an adjustment at the start of each season where the new Elo rating is a weighted average of 85% of the previous season's Elo rating and 15% of the initial Elo rating of 1500.\n",
    "\n",
    "## Steps of the Algorithm\n",
    "\n",
    "1. **Initialization of Elo Ratings**: All teams start with an initial Elo rating of 1500.\n",
    "2. **Definition of Elo Rating Update Function**: This function updates Elo ratings based on match outcomes.\n",
    "3. **Simulation of Matches and Elo Rating Updates**: Teams are compared based on their rankings, and their Elo ratings are updated accordingly.\n",
    "4. **Adjustment of Elo Ratings at the Start of Each Season**: Calculate the new Elo rating at the beginning of each season as 85% of the previous season's Elo rating plus 15% of 1500.\n",
    "\n",
    "\n"
   ]
  },
  {
   "cell_type": "code",
   "execution_count": 53,
   "metadata": {},
   "outputs": [
    {
     "name": "stdout",
     "output_type": "stream",
     "text": [
      "             TEAM          ELO\n",
      "2     New Orleans  1889.239387\n",
      "8          Dallas  1826.140681\n",
      "0          Denver  1767.948363\n",
      "10   Golden State  1712.992794\n",
      "14        Houston  1660.092709\n",
      "4     LA Clippers  1608.192630\n",
      "12    L.A. Lakers  1557.114032\n",
      "15  L.A. Clippers  1514.083117\n",
      "9       Minnesota  1505.769467\n",
      "3         Phoenix  1453.740408\n",
      "7        Portland  1400.436150\n",
      "5      Sacramento  1345.200296\n",
      "13    San Antonio  1287.263093\n",
      "11  Oklahoma City  1225.689762\n",
      "6            Utah  1159.327892\n",
      "1         Memphis  1086.769219\n"
     ]
    }
   ],
   "source": [
    "import pandas as pd\n",
    "\n",
    "# Lire le fichier CSV dans un DataFrame\n",
    "df = pd.read_csv(\"CLASSEMENTT.csv\")\n",
    "\n",
    "# Initialisation des cotes Elo\n",
    "initial_elo = 1500\n",
    "elo_ratings = {team: initial_elo for team in df['TEAM'].unique()}\n",
    "\n",
    "# Définir la fonction de mise à jour des cotes Elo\n",
    "def update_elo(winner_elo, loser_elo, K=32):\n",
    "    expected_win_winner = 1 / (1 + 10 ** ((loser_elo - winner_elo) / 400))\n",
    "    expected_win_loser = 1 / (1 + 10 ** ((winner_elo - loser_elo) / 400))\n",
    "    \n",
    "    new_winner_elo = winner_elo + K * (1 - expected_win_winner)\n",
    "    new_loser_elo = loser_elo + K * (0 - expected_win_loser)\n",
    "    \n",
    "    return new_winner_elo, new_loser_elo\n",
    "\n",
    "# Fonction pour mettre à jour les cotes Elo au début de chaque saison\n",
    "def adjust_elo_start_of_season(elo_ratings):\n",
    "    for team in elo_ratings:\n",
    "        elo_ratings[team] = 0.85 * elo_ratings[team] + 0.15 * initial_elo\n",
    "\n",
    "# Obtenir les années uniques dans le dataset\n",
    "df['YEAR'] = pd.to_datetime(df['STANDINGSDATE']).dt.year\n",
    "unique_years = sorted(df['YEAR'].unique())\n",
    "\n",
    "# Simuler les matchs et mettre à jour les cotes Elo pour chaque saison\n",
    "for year in unique_years:\n",
    "    # Filtrer les données pour l'année en cours\n",
    "    yearly_data = df[df['YEAR'] == year].sort_values(by='TEAM_ID')\n",
    "    teams = yearly_data['TEAM'].values\n",
    "    \n",
    "    # Comparer chaque paire d'équipes et mettre à jour les cotes Elo\n",
    "    for i in range(len(teams)):\n",
    "        for j in range(i + 1, len(teams)):\n",
    "            team1 = teams[i]\n",
    "            team2 = teams[j]\n",
    "            \n",
    "            team1_elo = elo_ratings[team1]\n",
    "            team2_elo = elo_ratings[team2]\n",
    "            \n",
    "            if i < j:  # Supposons que l'équipe i a gagné contre l'équipe j (parce que i est mieux classée que j)\n",
    "                new_team1_elo, new_team2_elo = update_elo(team1_elo, team2_elo)\n",
    "            else:  # Supposons que l'équipe j a gagné contre l'équipe i\n",
    "                new_team2_elo, new_team1_elo = update_elo(team2_elo, team1_elo)\n",
    "                \n",
    "            elo_ratings[team1] = new_team1_elo\n",
    "            elo_ratings[team2] = new_team2_elo\n",
    "    \n",
    "    # Ajuster les cotes Elo au début de la saison suivante\n",
    "    if year != unique_years[-1]:  # Pas besoin de mettre à jour après la dernière année\n",
    "        adjust_elo_start_of_season(elo_ratings)\n",
    "\n",
    "# Créer un DataFrame pour les cotes Elo\n",
    "elo_df = pd.DataFrame(elo_ratings.items(), columns=['TEAM', 'ELO'])\n",
    "\n",
    "# Trier le DataFrame par cotes Elo décroissantes\n",
    "sorted_df = elo_df.sort_values(by='ELO', ascending=False)\n",
    "\n",
    "# Afficher le DataFrame trié\n",
    "print(sorted_df)\n"
   ]
  },
  {
   "cell_type": "code",
   "execution_count": 54,
   "metadata": {},
   "outputs": [
    {
     "name": "stdout",
     "output_type": "stream",
     "text": [
      "(0.7672545689160419, 0.23274543108395807)\n",
      "None\n"
     ]
    }
   ],
   "source": [
    "\n",
    "def match_outcome_probability(team1, team2):\n",
    "    # Access Elo ratings using .loc[] for label-based indexing\n",
    "    elo_team1 = elo_df.loc[elo_df['TEAM'] == str(team1), 'ELO'].values[0]\n",
    "    elo_team2 = elo_df.loc[elo_df['TEAM'] == str(team2), 'ELO'].values[0]\n",
    "\n",
    "    delta_elo = elo_team1 - elo_team2\n",
    "    probability_team1_win = 1 / (1 + math.pow(10, -delta_elo / 400))\n",
    "    probability_team2_win = 1 / (1 + math.pow(10, delta_elo / 400))\n",
    "    #probability_draw = 1 - probability_team1_win - probability_team2_win\n",
    "    return print(f\"{probability_team1_win, probability_team2_win}\")\n",
    "\n",
    "print(match_outcome_probability('Golden State', 'Minnesota'))\n"
   ]
  },
  {
   "cell_type": "code",
   "execution_count": 38,
   "metadata": {},
   "outputs": [
    {
     "name": "stdout",
     "output_type": "stream",
     "text": [
      "           TEAM_ID STANDINGSDATE          TEAM CONFERENCE\n",
      "8235    1610612748    2022-04-02         Miami       East\n",
      "8236    1610612749    2022-04-02     Milwaukee       East\n",
      "8237    1610612738    2022-04-02        Boston       East\n",
      "8238    1610612755    2022-04-02  Philadelphia       East\n",
      "8239    1610612761    2022-04-02       Toronto       East\n",
      "...            ...           ...           ...        ...\n",
      "207142  1610612754    2015-04-02       Indiana       East\n",
      "207143  1610612765    2015-04-02       Detroit       East\n",
      "207144  1610612753    2015-04-02       Orlando       East\n",
      "207145  1610612755    2015-04-02  Philadelphia       East\n",
      "207146  1610612752    2015-04-02      New York       East\n",
      "\n",
      "[285 rows x 4 columns]\n"
     ]
    }
   ],
   "source": [
    "import pandas as pd\n",
    "\n",
    "# Charger les données\n",
    "dfa = pd.read_csv(\"C:/Users/cestm/Downloads/statistics/ranking.csv\")\n",
    "\n",
    "# Extraire les colonnes spécifiques et filtrer pour 'CONFERENCE' == 'East'\n",
    "selected_columns = dfa[['TEAM_ID', 'STANDINGSDATE', 'TEAM', 'CONFERENCE']]\n",
    "filtered_columns = selected_columns[selected_columns['CONFERENCE'] == 'East']\n",
    "\n",
    "# Filtrer les lignes où 'STANDINGSDATE' se termine par \"-04-02\"\n",
    "filtered_rows = filtered_columns[filtered_columns['STANDINGSDATE'].str.endswith('-04-02')]\n",
    "\n",
    "# Afficher les résultats filtrés\n",
    "print(filtered_rows)\n"
   ]
  },
  {
   "cell_type": "code",
   "execution_count": 55,
   "metadata": {},
   "outputs": [
    {
     "name": "stdout",
     "output_type": "stream",
     "text": [
      "           TEAM_ID STANDINGSDATE          TEAM CONFERENCE\n",
      "8235    1610612748    2022-04-02         Miami       East\n",
      "8236    1610612749    2022-04-02     Milwaukee       East\n",
      "8237    1610612738    2022-04-02        Boston       East\n",
      "8238    1610612755    2022-04-02  Philadelphia       East\n",
      "8239    1610612761    2022-04-02       Toronto       East\n",
      "...            ...           ...           ...        ...\n",
      "124012  1610612765    2014-04-02       Detroit       East\n",
      "124013  1610612738    2014-04-02        Boston       East\n",
      "124014  1610612753    2014-04-02       Orlando       East\n",
      "124015  1610612755    2014-04-02  Philadelphia       East\n",
      "124016  1610612749    2014-04-02     Milwaukee       East\n",
      "\n",
      "[135 rows x 4 columns]\n"
     ]
    }
   ],
   "source": [
    "rankingyear2022 = filtered_rowss[filtered_rowss['STANDINGSDATE'].str.startswith('2022-')]\n",
    "rankingyear2021 = filtered_rowss[filtered_rowss['STANDINGSDATE'].str.startswith('2021-')]\n",
    "rankingyear2020 = filtered_rowss[filtered_rowss['STANDINGSDATE'].str.startswith('2020-')]\n",
    "rankingyear2019 = filtered_rowss[filtered_rowss['STANDINGSDATE'].str.startswith('2019-')]\n",
    "rankingyear2018 = filtered_rowss[filtered_rowss['STANDINGSDATE'].str.startswith('2018-')]\n",
    "rankingyear2017 = filtered_rowss[filtered_rowss['STANDINGSDATE'].str.startswith('2017-')]\n",
    "rankingyear2016 = filtered_rowss[filtered_rowss['STANDINGSDATE'].str.startswith('2016-')]\n",
    "rankingyear2015 = filtered_rowss[filtered_rowss['STANDINGSDATE'].str.startswith('2015-')]\n",
    "rankingyear2014 = filtered_rowss[filtered_rowss['STANDINGSDATE'].str.startswith('2014-')]\n",
    "\n",
    "# Assuming you have already defined rankingyear2022, rankingyear2021, ..., rankingyear2014\n",
    "\n",
    "# Concatenate the DataFrames along the rows\n",
    "dffa = pd.concat([rankingyear2022, rankingyear2021, rankingyear2020, rankingyear2019, rankingyear2018, rankingyear2017, rankingyear2016, rankingyear2015, rankingyear2014])\n",
    "\n",
    "# Display the concatenated DataFrame\n",
    "print(dffa)"
   ]
  },
  {
   "cell_type": "code",
   "execution_count": 56,
   "metadata": {},
   "outputs": [],
   "source": [
    "\n",
    "dffa.to_csv(\"CLASSEMENTS\")"
   ]
  },
  {
   "cell_type": "code",
   "execution_count": 58,
   "metadata": {},
   "outputs": [
    {
     "name": "stdout",
     "output_type": "stream",
     "text": [
      "            TEAM          ELO\n",
      "7        Atlanta  1890.172661\n",
      "2         Boston  1827.087426\n",
      "6      Cleveland  1768.900362\n",
      "5        Chicago  1713.944453\n",
      "0          Miami  1661.040049\n",
      "1      Milwaukee  1609.314841\n",
      "8       Brooklyn  1558.075763\n",
      "11      New York  1506.722030\n",
      "14       Orlando  1454.682931\n",
      "12       Indiana  1401.367898\n",
      "3   Philadelphia  1346.120409\n",
      "4        Toronto  1288.170269\n",
      "10    Washington  1226.581824\n",
      "13       Detroit  1160.201199\n",
      "9      Charlotte  1087.617885\n"
     ]
    }
   ],
   "source": [
    "import pandas as pd\n",
    "\n",
    "# Lire le fichier CSV dans un DataFrame\n",
    "df = pd.read_csv(\"CLASSEMENTS.csv\")\n",
    "\n",
    "# Initialisation des cotes Elo\n",
    "initial_elo = 1500\n",
    "elo_ratings = {team: initial_elo for team in df['TEAM'].unique()}\n",
    "\n",
    "# Définir la fonction de mise à jour des cotes Elo\n",
    "def update_elo(winner_elo, loser_elo, K=32):\n",
    "    expected_win_winner = 1 / (1 + 10 ** ((loser_elo - winner_elo) / 400))\n",
    "    expected_win_loser = 1 / (1 + 10 ** ((winner_elo - loser_elo) / 400))\n",
    "    \n",
    "    new_winner_elo = winner_elo + K * (1 - expected_win_winner)\n",
    "    new_loser_elo = loser_elo + K * (0 - expected_win_loser)\n",
    "    \n",
    "    return new_winner_elo, new_loser_elo\n",
    "\n",
    "# Fonction pour mettre à jour les cotes Elo au début de chaque saison\n",
    "def adjust_elo_start_of_season(elo_ratings):\n",
    "    for team in elo_ratings:\n",
    "        elo_ratings[team] = 0.85 * elo_ratings[team] + 0.15 * initial_elo\n",
    "\n",
    "# Obtenir les années uniques dans le dataset\n",
    "df['YEAR'] = pd.to_datetime(df['STANDINGSDATE']).dt.year\n",
    "unique_years = sorted(df['YEAR'].unique())\n",
    "\n",
    "# Simuler les matchs et mettre à jour les cotes Elo pour chaque saison\n",
    "for year in unique_years:\n",
    "    # Filtrer les données pour l'année en cours\n",
    "    yearly_data = df[df['YEAR'] == year].sort_values(by='TEAM_ID')\n",
    "    teams = yearly_data['TEAM'].values\n",
    "    \n",
    "    # Comparer chaque paire d'équipes et mettre à jour les cotes Elo\n",
    "    for i in range(len(teams)):\n",
    "        for j in range(i + 1, len(teams)):\n",
    "            team1 = teams[i]\n",
    "            team2 = teams[j]\n",
    "            \n",
    "            team1_elo = elo_ratings[team1]\n",
    "            team2_elo = elo_ratings[team2]\n",
    "            \n",
    "            if i < j:  # Supposons que l'équipe i a gagné contre l'équipe j (parce que i est mieux classée que j)\n",
    "                new_team1_elo, new_team2_elo = update_elo(team1_elo, team2_elo)\n",
    "            else:  # Supposons que l'équipe j a gagné contre l'équipe i\n",
    "                new_team2_elo, new_team1_elo = update_elo(team2_elo, team1_elo)\n",
    "                \n",
    "            elo_ratings[team1] = new_team1_elo\n",
    "            elo_ratings[team2] = new_team2_elo\n",
    "    \n",
    "    # Ajuster les cotes Elo au début de la saison suivante\n",
    "    if year != unique_years[-1]:  # Pas besoin de mettre à jour après la dernière année\n",
    "        adjust_elo_start_of_season(elo_ratings)\n",
    "\n",
    "# Créer un DataFrame pour les cotes Elo\n",
    "elo_df = pd.DataFrame(elo_ratings.items(), columns=['TEAM', 'ELO'])\n",
    "\n",
    "# Trier le DataFrame par cotes Elo décroissantes\n",
    "sorted_df = elo_df.sort_values(by='ELO', ascending=False)\n",
    "\n",
    "# Afficher le DataFrame trié\n",
    "print(sorted_df)\n"
   ]
  },
  {
   "cell_type": "code",
   "execution_count": 59,
   "metadata": {},
   "outputs": [
    {
     "name": "stdout",
     "output_type": "stream",
     "text": [
      "(0.2213037130503924, 0.7786962869496076)\n",
      "None\n"
     ]
    }
   ],
   "source": [
    "def match_outcome_probability(team1, team2):\n",
    "    # Access Elo ratings using .loc[] for label-based indexing\n",
    "    elo_team1 = sorted_df.loc[sorted_df['TEAM'] == str(team1), 'ELO'].values[0]\n",
    "    elo_team2 = sorted_df.loc[sorted_df['TEAM'] == str(team2), 'ELO'].values[0]\n",
    "\n",
    "    delta_elo = elo_team1 - elo_team2\n",
    "    probability_team1_win = 1 / (1 + math.pow(10, -delta_elo / 400))\n",
    "    probability_team2_win = 1 / (1 + math.pow(10, delta_elo / 400))\n",
    "    #probability_draw = 1 - probability_team1_win - probability_team2_win\n",
    "    return print(f\"{probability_team1_win, probability_team2_win}\")\n",
    "\n",
    "print(match_outcome_probability('Toronto', 'New York'))\n"
   ]
  }
 ],
 "metadata": {
  "kernelspec": {
   "display_name": "Python 3",
   "language": "python",
   "name": "python3"
  },
  "language_info": {
   "codemirror_mode": {
    "name": "ipython",
    "version": 3
   },
   "file_extension": ".py",
   "mimetype": "text/x-python",
   "name": "python",
   "nbconvert_exporter": "python",
   "pygments_lexer": "ipython3",
   "version": "3.11.9"
  }
 },
 "nbformat": 4,
 "nbformat_minor": 2
}
