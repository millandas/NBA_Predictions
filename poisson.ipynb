{
 "cells": [
  {
   "cell_type": "code",
   "execution_count": 1,
   "metadata": {},
   "outputs": [],
   "source": [
    "import pandas as pd\n",
    "import numpy as np\n",
    "from scipy.stats import poisson\n"
   ]
  },
  {
   "cell_type": "markdown",
   "metadata": {},
   "source": [
    "Load the data"
   ]
  },
  {
   "cell_type": "code",
   "execution_count": 2,
   "metadata": {},
   "outputs": [],
   "source": [
    "data = pd.read_csv('games.csv')"
   ]
  },
  {
   "cell_type": "markdown",
   "metadata": {},
   "source": [
    "Calculate average goals scored and conceded for each team"
   ]
  },
  {
   "cell_type": "code",
   "execution_count": 3,
   "metadata": {},
   "outputs": [],
   "source": [
    "home_goals_scored_avg = data.groupby('HOME_TEAM_ID')['PTS_home'].mean()\n",
    "home_goals_conceded_avg = data.groupby('HOME_TEAM_ID')['PTS_away'].mean()\n",
    "away_goals_scored_avg = data.groupby('VISITOR_TEAM_ID')['PTS_away'].mean()\n",
    "away_goals_conceded_avg = data.groupby('VISITOR_TEAM_ID')['PTS_home'].mean()"
   ]
  },
  {
   "cell_type": "markdown",
   "metadata": {},
   "source": [
    "Here we consider the home team's offensive capabilities multiplied by the away team's defensive capabilites normalised by the home team's defense."
   ]
  },
  {
   "cell_type": "code",
   "execution_count": 5,
   "metadata": {},
   "outputs": [],
   "source": [
    "def expected_goals(home_team, away_team):\n",
    "    lambda_home = home_goals_scored_avg[home_team] * away_goals_conceded_avg[away_team] / home_goals_conceded_avg[home_team]# Normalise the home goals\n",
    "    lambda_away = away_goals_scored_avg[away_team] * home_goals_conceded_avg[home_team] / away_goals_conceded_avg[away_team]# Normalise the away goals\n",
    "    return lambda_home, lambda_away"
   ]
  },
  {
   "cell_type": "code",
   "execution_count": 6,
   "metadata": {},
   "outputs": [],
   "source": [
    "def poisson_prob(lam, k):\n",
    "    return poisson.pmf(k, lam)"
   ]
  },
  {
   "cell_type": "markdown",
   "metadata": {},
   "source": [
    "In this function we run the poisson distribution on the home and away teams using 150 as an upper limit of goals. \n",
    "This will initialise two arrays which will contain the probability of each number of goals. \n",
    "Then a probability matrix is created by doing the outer product of the two matrices. \n",
    "This means that the element at row i and column j represents the probability that the home team scores i goals and the away team wins j goals.\n",
    "So then in order to calculate the probability of the home team winning it is trivial we just sum where i>j and vice versa for the away team.\n",
    "The point where i=j are the probabilities of a draw"
   ]
  },
  {
   "cell_type": "code",
   "execution_count": 7,
   "metadata": {},
   "outputs": [],
   "source": [
    "def match_probability(home_team, away_team):\n",
    "    lambda_home, lambda_away = expected_goals(home_team, away_team)\n",
    "    \n",
    "    max_goals = 150  # Reasonable upper limit for goals in a match\n",
    "    home_probs = [poisson_prob(lambda_home, i) for i in range(max_goals)]\n",
    "    away_probs = [poisson_prob(lambda_away, i) for i in range(max_goals)]\n",
    "    \n",
    "    # Create a matrix of probabilities for all scorelines\n",
    "    prob_matrix = np.outer(home_probs, away_probs)\n",
    "    \n",
    "    home_win_prob = np.sum(np.tril(prob_matrix, -1))\n",
    "    draw_prob = np.sum(np.diag(prob_matrix))\n",
    "    away_win_prob = np.sum(np.triu(prob_matrix, 1))\n",
    "    \n",
    "    return home_win_prob, draw_prob, away_win_prob"
   ]
  },
  {
   "cell_type": "markdown",
   "metadata": {},
   "source": [
    "This function we just compare the probabilites calculated above in order to determine who will win."
   ]
  },
  {
   "cell_type": "code",
   "execution_count": 8,
   "metadata": {},
   "outputs": [],
   "source": [
    "def predict_outcome(home_team, away_team):\n",
    "    home_win_prob, draw_prob, away_win_prob = match_probability(home_team, away_team)\n",
    "    \n",
    "    if home_win_prob > draw_prob and home_win_prob > away_win_prob:\n",
    "        prediction = 'Home Win'\n",
    "    elif away_win_prob > home_win_prob and away_win_prob > draw_prob:\n",
    "        prediction = 'Away Win'\n",
    "    else:\n",
    "        prediction = 'Draw'\n",
    "    \n",
    "    return prediction, home_win_prob, draw_prob, away_win_prob\n",
    "\n",
    "# Example usage\n",
    "home_team,away_team = 1610612743,1610612763  # Example team ID for home team"
   ]
  },
  {
   "cell_type": "code",
   "execution_count": 9,
   "metadata": {},
   "outputs": [],
   "source": [
    "prediction, home_win_prob, draw_prob, away_win_prob = predict_outcome(home_team, away_team)"
   ]
  },
  {
   "cell_type": "code",
   "execution_count": 11,
   "metadata": {},
   "outputs": [
    {
     "name": "stdout",
     "output_type": "stream",
     "text": [
      "Prediction: Home Win\n",
      "Home Win Probability: 0.68\n",
      "Draw Probability: 0.02\n",
      "Away Win Probability: 0.29\n"
     ]
    }
   ],
   "source": [
    "print(f\"Prediction: {prediction}\")\n",
    "print(f\"Home Win Probability: {home_win_prob:.2f}\")\n",
    "print(f\"Draw Probability: {draw_prob:.2f}\")\n",
    "print(f\"Away Win Probability: {away_win_prob:.2f}\")"
   ]
  }
 ],
 "metadata": {
  "kernelspec": {
   "display_name": "Python 3.10.8 64-bit",
   "language": "python",
   "name": "python3"
  },
  "language_info": {
   "codemirror_mode": {
    "name": "ipython",
    "version": 3
   },
   "file_extension": ".py",
   "mimetype": "text/x-python",
   "name": "python",
   "nbconvert_exporter": "python",
   "pygments_lexer": "ipython3",
   "version": "3.10.8"
  },
  "orig_nbformat": 4,
  "vscode": {
   "interpreter": {
    "hash": "aee8b7b246df8f9039afb4144a1f6fd8d2ca17a180786b69acc140d282b71a49"
   }
  }
 },
 "nbformat": 4,
 "nbformat_minor": 2
}
