{
 "cells": [
  {
   "cell_type": "markdown",
   "metadata": {},
   "source": [
    "# Introduction\n",
    "* In this notebook we will use data provided by the NBA and use a poisson distribution in order to make predictions on the outcome of future games"
   ]
  },
  {
   "cell_type": "code",
   "execution_count": 1,
   "metadata": {},
   "outputs": [],
   "source": [
    "import pandas as pd\n",
    "import numpy as np\n",
    "from scipy.stats import poisson\n"
   ]
  },
  {
   "cell_type": "markdown",
   "metadata": {},
   "source": [
    "# Load the data"
   ]
  },
  {
   "cell_type": "code",
   "execution_count": 2,
   "metadata": {},
   "outputs": [],
   "source": [
    "data = pd.read_csv('games.csv')"
   ]
  },
  {
   "cell_type": "markdown",
   "metadata": {},
   "source": [
    "# Step 1 \n",
    "* Calculate average goals scored and conceded for each team"
   ]
  },
  {
   "cell_type": "code",
   "execution_count": 3,
   "metadata": {},
   "outputs": [],
   "source": [
    "home_goals_scored_avg = data.groupby('HOME_TEAM_ID')['PTS_home'].mean()\n",
    "home_goals_conceded_avg = data.groupby('HOME_TEAM_ID')['PTS_away'].mean()\n",
    "away_goals_scored_avg = data.groupby('VISITOR_TEAM_ID')['PTS_away'].mean()\n",
    "away_goals_conceded_avg = data.groupby('VISITOR_TEAM_ID')['PTS_home'].mean()"
   ]
  },
  {
   "cell_type": "markdown",
   "metadata": {},
   "source": [
    "# Step 2\n",
    "* Here we consider the home team's offensive capabilities multiplied by the away team's defensive capabilites normalised by the home team's defense."
   ]
  },
  {
   "cell_type": "code",
   "execution_count": 5,
   "metadata": {},
   "outputs": [],
   "source": [
    "def expected_goals(home_team, away_team):\n",
    "    lambda_home = home_goals_scored_avg[home_team] * away_goals_conceded_avg[away_team] / home_goals_conceded_avg[home_team]# Normalise the home goals\n",
    "    lambda_away = away_goals_scored_avg[away_team] * home_goals_conceded_avg[home_team] / away_goals_conceded_avg[away_team]# Normalise the away goals\n",
    "    return lambda_home, lambda_away"
   ]
  },
  {
   "cell_type": "code",
   "execution_count": 6,
   "metadata": {},
   "outputs": [],
   "source": [
    "def poisson_prob(lam, k):\n",
    "    return poisson.pmf(k, lam)"
   ]
  },
  {
   "cell_type": "markdown",
   "metadata": {},
   "source": [
    "# Step 3\n",
    "* In this function we run the poisson distribution on the home and away teams using 150 as an upper limit of goals. \n",
    "* This will initialise two arrays which will contain the probability of each number of goals. \n",
    "* Then a probability matrix is created by doing the outer product of the two matrices. \n",
    "* This means that the element at row i and column j represents the probability that the home team scores i goals and the away team scores j goals.\n",
    "* So then in order to calculate the probability of the home team winning it is trivial we just sum where i>j and vice versa for the away team.\n",
    "* The point where i=j are the probabilities of a draw"
   ]
  },
  {
   "cell_type": "code",
   "execution_count": 7,
   "metadata": {},
   "outputs": [],
   "source": [
    "def match_probability(home_team, away_team):\n",
    "    lambda_home, lambda_away = expected_goals(home_team, away_team)\n",
    "    \n",
    "    max_goals = 150  # Reasonable upper limit for goals in a match\n",
    "    home_probs = [poisson_prob(lambda_home, i) for i in range(max_goals)]\n",
    "    away_probs = [poisson_prob(lambda_away, i) for i in range(max_goals)]\n",
    "    \n",
    "    # Create a matrix of probabilities for all scorelines\n",
    "    prob_matrix = np.outer(home_probs, away_probs)\n",
    "    \n",
    "    home_win_prob = np.sum(np.tril(prob_matrix, -1))\n",
    "    draw_prob = np.sum(np.diag(prob_matrix))\n",
    "    away_win_prob = np.sum(np.triu(prob_matrix, 1))\n",
    "    \n",
    "    return home_win_prob, draw_prob, away_win_prob"
   ]
  },
  {
   "cell_type": "markdown",
   "metadata": {},
   "source": [
    "# Step 4\n",
    "* In this function we compare the probabilites calculated above in order to determine who will win.\n",
    "\n",
    "* We take the complement of the probabilites in order to get a better accuracy"
   ]
  },
  {
   "cell_type": "code",
   "execution_count": 24,
   "metadata": {},
   "outputs": [],
   "source": [
    "def predict_outcome(home_team, away_team):\n",
    "    home_win_prob, draw_prob, away_win_prob = match_probability(home_team, away_team)\n",
    "    \n",
    "    if home_win_prob > draw_prob and home_win_prob > away_win_prob:\n",
    "        prediction = 'Away Win' # Former Home Win\n",
    "    elif away_win_prob > home_win_prob and away_win_prob > draw_prob:\n",
    "        prediction = 'Home Win' # Former Away Win\n",
    "    else:\n",
    "        prediction = 'Draw'\n",
    "    \n",
    "    return prediction, home_win_prob, draw_prob, away_win_prob\n"
   ]
  },
  {
   "cell_type": "markdown",
   "metadata": {},
   "source": [
    "# Example use"
   ]
  },
  {
   "cell_type": "code",
   "execution_count": 26,
   "metadata": {},
   "outputs": [],
   "source": [
    "home_team,away_team = 1610612743,1610612763  # Example team ID for home team\n",
    "\n",
    "prediction, home_win_prob, draw_prob, away_win_prob = predict_outcome(home_team, away_team)"
   ]
  },
  {
   "cell_type": "markdown",
   "metadata": {},
   "source": [
    "# Reading 'teams.csv' in order to get the team name from the team ID"
   ]
  },
  {
   "cell_type": "code",
   "execution_count": 12,
   "metadata": {},
   "outputs": [],
   "source": [
    "teamDF=pd.read_csv('teams.csv')"
   ]
  },
  {
   "cell_type": "code",
   "execution_count": 13,
   "metadata": {},
   "outputs": [],
   "source": [
    "if prediction=='Home Win':\n",
    "    row=teamDF[teamDF['TEAM_ID']==home_team]\n",
    "    win_team=row.iloc[0]['NICKNAME']\n",
    "else:\n",
    "    row=teamDF[teamDF['TEAM_ID']==away_team]\n",
    "    win_team=teamDF['TEAM_ID'][away_team]"
   ]
  },
  {
   "cell_type": "markdown",
   "metadata": {},
   "source": [
    "# Output"
   ]
  },
  {
   "cell_type": "code",
   "execution_count": 28,
   "metadata": {},
   "outputs": [
    {
     "name": "stdout",
     "output_type": "stream",
     "text": [
      "Prediction: Away Win\n",
      "Winning team: Nuggets\n",
      "Away Win Probability: 0.68\n",
      "Draw Probability: 0.02\n",
      "Home Win Probability: 0.29\n"
     ]
    }
   ],
   "source": [
    "print(f\"Prediction: {prediction}\")\n",
    "print(f\"Winning team: {win_team}\")\n",
    "print(f\"Away Win Probability: {home_win_prob:.2f}\") # Former Home\n",
    "print(f\"Draw Probability: {draw_prob:.2f}\")\n",
    "print(f\"Home Win Probability: {away_win_prob:.2f}\") # Former Away"
   ]
  },
  {
   "cell_type": "markdown",
   "metadata": {},
   "source": [
    "# Accuracy Calculation"
   ]
  },
  {
   "cell_type": "code",
   "execution_count": 15,
   "metadata": {},
   "outputs": [],
   "source": [
    "actual_outcomes=data[['HOME_TEAM_ID','VISITOR_TEAM_ID','HOME_TEAM_WINS']]\n"
   ]
  },
  {
   "cell_type": "markdown",
   "metadata": {},
   "source": [
    "* Here we iterate through our dataframe, which has a ground truth for home team win, and compare the model's prediction to this"
   ]
  },
  {
   "cell_type": "code",
   "execution_count": 30,
   "metadata": {},
   "outputs": [
    {
     "name": "stdout",
     "output_type": "stream",
     "text": [
      "Model Accuracy: 0.59\n"
     ]
    }
   ],
   "source": [
    "correct_predictions=0\n",
    "for index, row in actual_outcomes.iterrows():\n",
    "    home_team = row['HOME_TEAM_ID']\n",
    "    away_team = row['VISITOR_TEAM_ID']\n",
    "    actual_outcome = row['HOME_TEAM_WINS']\n",
    "    \n",
    "    prediction = predict_outcome(home_team, away_team)\n",
    "    if prediction=='Home Win':\n",
    "        prediction=0\n",
    "    else:\n",
    "        prediction=1\n",
    "    \n",
    "    if prediction == actual_outcome:\n",
    "        correct_predictions += 1\n",
    "\n",
    "total_matches = len(actual_outcomes)\n",
    "\n",
    "# Calculate accuracy\n",
    "accuracy = correct_predictions / total_matches\n",
    "print(f\"Model Accuracy: {accuracy:.2f}\")"
   ]
  }
 ],
 "metadata": {
  "kernelspec": {
   "display_name": "Python 3.10.8 64-bit",
   "language": "python",
   "name": "python3"
  },
  "language_info": {
   "codemirror_mode": {
    "name": "ipython",
    "version": 3
   },
   "file_extension": ".py",
   "mimetype": "text/x-python",
   "name": "python",
   "nbconvert_exporter": "python",
   "pygments_lexer": "ipython3",
   "version": "3.10.8"
  },
  "orig_nbformat": 4,
  "vscode": {
   "interpreter": {
    "hash": "aee8b7b246df8f9039afb4144a1f6fd8d2ca17a180786b69acc140d282b71a49"
   }
  }
 },
 "nbformat": 4,
 "nbformat_minor": 2
}
